{
  "nbformat": 4,
  "nbformat_minor": 0,
  "metadata": {
    "colab": {
      "provenance": []
    },
    "kernelspec": {
      "name": "python3",
      "display_name": "Python 3"
    },
    "language_info": {
      "name": "python"
    }
  },
  "cells": [
    {
      "cell_type": "markdown",
      "source": [
        "# Instructions:\n",
        "\n",
        "You have to submit the Notebook before the deadline:\n",
        "\n",
        "*   Before you start go to the menu in the upper left corner and click file->Save a copy in Drive.\n",
        "*   Modify (add your name) the notebook name to **firstname_lastname_NumPy_Assignment.ipynb**."
      ],
      "metadata": {
        "id": "wMVmkcuC6PRA"
      }
    },
    {
      "cell_type": "code",
      "source": [
        "import numpy as np"
      ],
      "metadata": {
        "id": "jPJoYjEvHXkW"
      },
      "execution_count": null,
      "outputs": []
    },
    {
      "cell_type": "markdown",
      "source": [
        "# Exercise 1:\n",
        "\n",
        "1. Create 3 arrays $X$, $w$ and $y$ with shapes (3,4), (2,1) and (6,1) respectively such that:\n",
        "\n",
        "  * $X$ is a sample from the standard normal distribution\n",
        "  * $w$ an $y$ are filled  with random floats\n",
        "\n",
        "2. Perform the following operations:\n",
        "\n",
        "  * Find the minimum value in $X$.\n",
        "  * Find the maximum value in each row of $X$.\n",
        "  * Reshape $X$ such that, the operation $Xw$  will result in an array of a shape (6,1).\n",
        "  * Find the L2 norm  $||Xw-y||^2$."
      ],
      "metadata": {
        "id": "OWAXiYTOw91a"
      }
    },
    {
      "cell_type": "code",
      "source": [
        "## WRITE YOUR CODE HERE ##\n",
        "X = np.random.randn(3,4)\n",
        "w = np.random.random((2,1))\n",
        "y = np.random.random((6,1))\n",
        "\n",
        "#minimum value of W\n",
        "print(f\"Minimum value of X: {np.min(X)}\")\n",
        "\n",
        "#maximum value of each row of X\n",
        "print(f\"The maximum value for each row: {np.max(X,axis=1)}\")\n",
        "\n",
        "#Reshape  𝑋  such that, the operation  𝑋𝑤  will result in an array of a shape (6,1)\n",
        "X = X.reshape(6,2)\n",
        "Xw = X@w\n",
        "print(f\"Array shape of Xw after reshaping X: {Xw.shape}\")\n",
        "\n",
        "#L2 Norm\n",
        "print(f\"L2 Norm: {np.linalg.norm(Xw - y)}\")\n"
      ],
      "metadata": {
        "id": "IgrkRY9f6lbB",
        "colab": {
          "base_uri": "https://localhost:8080/"
        },
        "outputId": "d2f2986f-3cdb-41a2-e024-53779a257550"
      },
      "execution_count": null,
      "outputs": [
        {
          "output_type": "stream",
          "name": "stdout",
          "text": [
            "Minimum value of X: -1.1078052354752475\n",
            "The maximum value for each row: [1.21633873 1.59657953 1.03280389]\n",
            "Array shape of Xw after reshaping X: (6, 1)\n",
            "L2 Norm: 1.7554738203031324\n"
          ]
        }
      ]
    },
    {
      "cell_type": "markdown",
      "source": [
        "# Exercise 2\n",
        "\n",
        "Replace all values greater than or equal to 0.5 with 1, else remain the same.\n"
      ],
      "metadata": {
        "id": "jPHYQRqm_GgX"
      }
    },
    {
      "cell_type": "code",
      "source": [
        "a = np.array([0, 0.6, 0.5, 0, 0, 0.9, 1, 0,0,0.8])"
      ],
      "metadata": {
        "id": "IPdAFiYA_3B0"
      },
      "execution_count": null,
      "outputs": []
    },
    {
      "cell_type": "code",
      "source": [
        "## WRITE YOUR CODE HERE ##\n",
        "print(np.where((a >= 0.5),1,a))"
      ],
      "metadata": {
        "id": "0Rp8bMFACFbJ",
        "colab": {
          "base_uri": "https://localhost:8080/"
        },
        "outputId": "f8ce04b0-a354-4821-d2ad-8441acae4849"
      },
      "execution_count": null,
      "outputs": [
        {
          "output_type": "stream",
          "name": "stdout",
          "text": [
            "[0. 1. 1. 0. 0. 1. 1. 0. 0. 1.]\n"
          ]
        }
      ]
    },
    {
      "cell_type": "markdown",
      "source": [
        "# Exercise 3:\n",
        "\n",
        "Create a (4X4) array with 1 on the border and 0 inside"
      ],
      "metadata": {
        "id": "EVhoQfIw8DNa"
      }
    },
    {
      "cell_type": "code",
      "source": [
        "## WRITE YOUR CODE HERE ##\n",
        "result = np.ones((4,4)) #4 x 4 with all 1s\n",
        "result[1:-1, 1:-1] = 0 #set inner elements to 0\n",
        "print(result)"
      ],
      "metadata": {
        "id": "JzXuJhTd8DBc",
        "colab": {
          "base_uri": "https://localhost:8080/"
        },
        "outputId": "fd587d1d-feb0-4c0a-b986-ebf0f7d27a41"
      },
      "execution_count": null,
      "outputs": [
        {
          "output_type": "stream",
          "name": "stdout",
          "text": [
            "[[1. 1. 1. 1.]\n",
            " [1. 0. 0. 1.]\n",
            " [1. 0. 0. 1.]\n",
            " [1. 1. 1. 1.]]\n"
          ]
        }
      ]
    },
    {
      "cell_type": "markdown",
      "source": [
        "# Exercise 4:\n",
        "\n",
        "Remove all rows with nan values in the given array.\n",
        "\n",
        "Hint: use `np.isnan()`\n",
        "\n",
        "Expected output:\n",
        "\n",
        "        array([[37.5, 24.1,  2.2],\n",
        "               [18.1,  4.8, 32. ]])"
      ],
      "metadata": {
        "id": "r_h3qC5TfJbG"
      }
    },
    {
      "cell_type": "code",
      "source": [
        "a = np.array([[37.5, 24.1, 2.2],\n",
        "             [25.4, np.nan, 38],\n",
        "             [18.1, 4.8, 32],\n",
        "             [np.nan, np.nan, 28.9]\n",
        "                ])\n"
      ],
      "metadata": {
        "id": "qLCa2bmdLSLK"
      },
      "execution_count": null,
      "outputs": []
    },
    {
      "cell_type": "code",
      "source": [
        "## WRITE YOUR CODE HERE ##\n",
        "print(a[~np.isnan(a).any(axis=1),:])"
      ],
      "metadata": {
        "id": "hsA_yPOJfZ_3",
        "colab": {
          "base_uri": "https://localhost:8080/"
        },
        "outputId": "3754e2c6-cfd1-4dfe-f216-37dc132c8798"
      },
      "execution_count": null,
      "outputs": [
        {
          "output_type": "stream",
          "name": "stdout",
          "text": [
            "[[37.5 24.1  2.2]\n",
            " [18.1  4.8 32. ]]\n"
          ]
        }
      ]
    },
    {
      "cell_type": "markdown",
      "source": [
        "# Exercice 5\n",
        "Sort the following NumPy array:\n",
        " - by the 2nd row. Expected output:\n",
        "\n",
        "        array([\n",
        "              [ 6, 45, 34],\n",
        "              [16, 21, 67],\n",
        "              [32, 40, 17]])\n",
        " - by the 2nd column. Expected output:\n",
        "\n",
        "       array([[45,  6, 34],\n",
        "              [21, 16, 67],\n",
        "              [40, 32, 17]])"
      ],
      "metadata": {
        "id": "ucnJXXouG7q1"
      }
    },
    {
      "cell_type": "code",
      "source": [
        "a = np.array([[45,6,34],[21,16,67],[40,32,17]])"
      ],
      "metadata": {
        "id": "vzDmZPNwIXE_"
      },
      "execution_count": null,
      "outputs": []
    },
    {
      "cell_type": "code",
      "source": [
        "## WRITE YOUR CODE HERE ##\n",
        "print(\"original matrix:\\n\")\n",
        "print(a,\"\\n\")\n",
        "print(\"Sorted by the 2nd row:\\n\")\n",
        "sort_r2_indx = np.argsort(a[1])\n",
        "sorted_by_row2 = a[:, sort_r2_indx]\n",
        "print(sorted_by_row2,\"\\n\")\n",
        "\n",
        "print(\"Sorted by the 2nd column:\\n\")\n",
        "sort_c2_indx = np.argsort(a[:, 1])\n",
        "sorted_by_col2 = a[:, sort_c2_indx]\n",
        "print(sorted_by_col2,\"\\n\")\n"
      ],
      "metadata": {
        "id": "wYbwvEcMffCb",
        "colab": {
          "base_uri": "https://localhost:8080/"
        },
        "outputId": "e58dfcd1-fa15-4fcc-aa48-673019c6452b"
      },
      "execution_count": null,
      "outputs": [
        {
          "output_type": "stream",
          "name": "stdout",
          "text": [
            "original matrix:\n",
            "\n",
            "[[45  6 34]\n",
            " [21 16 67]\n",
            " [40 32 17]] \n",
            "\n",
            "Sorted by the 2nd row:\n",
            "\n",
            "[[ 6 45 34]\n",
            " [16 21 67]\n",
            " [32 40 17]] \n",
            "\n",
            "Sorted by the 2nd column:\n",
            "\n",
            "[[45  6 34]\n",
            " [21 16 67]\n",
            " [40 32 17]] \n",
            "\n"
          ]
        }
      ]
    },
    {
      "cell_type": "markdown",
      "source": [
        "# Exercise 6:"
      ],
      "metadata": {
        "id": "Cg8FtzgwkNIL"
      }
    },
    {
      "cell_type": "markdown",
      "source": [
        "## Problem Description:\n",
        "\n",
        "In this exercise, you are required to implement a function that performs Principal Component Analysis (PCA) on a given array of dataset using Singular Value Decomposition (SVD).\n",
        "\n",
        "\n",
        "### Instructions:\n",
        "\n",
        "A. Write a function named **pca_with_svd()** that takes a 2D array X as input, where each row represents a data point and each column represents a feature.\n",
        "\n",
        "Inside the function:\n",
        "\n",
        "1. Center X by substracting the column-mean from each column.\n",
        "2. Decompose the centered X using SVD (`np.linalg.svd()`) to obtain the matrices $U$, $Σ$, $V^T$\n",
        "\n",
        "  where:\n",
        "    * $U$ is a 2D array containing the eigenvectors as columns.\n",
        "    * $Σ$ is a 1D array containing the singular values.\n",
        "\n",
        "3. Extract the principal components (PCs).\n",
        "\n",
        "  Hint: $PCs = V^T$\n",
        "\n",
        "4. The function should return a tuple of  $X\\_centered$, $PCs$, $U$ and $Σ$\n",
        "\n",
        "\n",
        "B. Write a second function named  **get_projected_data()** that:\n",
        "\n",
        "1. Project the array X onto the subspace defined by the $V$.\n",
        "\n",
        "  **Hint**:  $projected\\_X = XV = US$ where, S is the 2D diagonal matrix of singular values.\n",
        "2. Return a 2D array representing the projected data.\n",
        "\n"
      ],
      "metadata": {
        "id": "XG91r-6NIFdk"
      }
    },
    {
      "cell_type": "code",
      "source": [
        "X = np.array([[1, 2, 3],\n",
        "              [4, 5, 6],\n",
        "              [7, 8, 9]])"
      ],
      "metadata": {
        "id": "xYct3bqX9ZOP"
      },
      "execution_count": null,
      "outputs": []
    },
    {
      "cell_type": "code",
      "source": [
        "##  COMPLETE THE CODE ##\n",
        "\n",
        "def pca_with_svd(x):\n",
        "\n",
        "    # Step 1: Compute the mean-centered X matrix\n",
        "    mean_centred_matrix = x - np.mean(x,axis=0)\n",
        "\n",
        "    # Step 2: Use SVD to obtain U, Sigma, and V^T\n",
        "    u, sigma, v_transpose = np.linalg.svd(mean_centred_matrix)\n",
        "\n",
        "    # Step 3: Extract the principal components from V\n",
        "    pcs = v_transpose.T\n",
        "    # Step 4: Return the result as a tuple\n",
        "    return mean_centred_matrix, pcs, u, sigma\n",
        "\n",
        "\n",
        "def get_projected_data(x,v):\n",
        "\n",
        "    # Project the data onto the subspace defined by V\n",
        "    projected_x = x@v\n",
        "\n",
        "    # Return the projected data\n",
        "    return projected_x"
      ],
      "metadata": {
        "id": "jsfj5gWk9GOW"
      },
      "execution_count": null,
      "outputs": []
    },
    {
      "cell_type": "code",
      "source": [
        "X_centered,principal_components,U, singular_values = pca_with_svd(X)\n",
        "\n",
        "projected_data = get_projected_data(X_centered,principal_components)\n",
        "\n",
        "# Display the results\n",
        "print(\"\\nPrincipal Components:\\n\", principal_components)\n",
        "print(\"\\nSingular Values:\", singular_values)\n",
        "print(\"\\nProjected Data:\\n\", projected_data)"
      ],
      "metadata": {
        "id": "Yo2tAPqS9pPr",
        "colab": {
          "base_uri": "https://localhost:8080/"
        },
        "outputId": "6d83d007-9c94-4369-a9cf-d5d19d56d8e5"
      },
      "execution_count": null,
      "outputs": [
        {
          "output_type": "stream",
          "name": "stdout",
          "text": [
            "\n",
            "Principal Components:\n",
            " [[ 0.57735027 -0.81649658  0.        ]\n",
            " [ 0.57735027  0.40824829 -0.70710678]\n",
            " [ 0.57735027  0.40824829  0.70710678]]\n",
            "\n",
            "Singular Values: [7.34846923e+00 3.62597321e-16 0.00000000e+00]\n",
            "\n",
            "Projected Data:\n",
            " [[-5.19615242e+00 -1.33226763e-15 -3.33066907e-16]\n",
            " [ 0.00000000e+00  0.00000000e+00  0.00000000e+00]\n",
            " [ 5.19615242e+00  1.33226763e-15  3.33066907e-16]]\n"
          ]
        }
      ]
    },
    {
      "cell_type": "code",
      "source": [],
      "metadata": {
        "id": "RE4R_usQkeqs"
      },
      "execution_count": null,
      "outputs": []
    }
  ]
}